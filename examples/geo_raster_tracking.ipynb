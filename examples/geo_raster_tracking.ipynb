{
 "cells": [
  {
   "cell_type": "markdown",
   "metadata": {},
   "source": [
    "## Objectif\n",
    "Ce notebook illustre un cas d'usage g\u00e9ospatial synth\u00e9tique analys\u00e9 avec `morpho-analytics`.\n"
   ]
  },
  {
   "cell_type": "markdown",
   "metadata": {},
   "source": [
    "### Imports\n"
   ]
  },
  {
   "cell_type": "code",
   "metadata": {},
   "execution_count": null,
   "outputs": [],
   "source": [
    "from pathlib import Path\n",
    "import json\n",
    "\n",
    "import numpy as np\n",
    "from IPython.display import Image, display\n",
    "\n",
    "from morpho_analytics.track import track, metrics, save_overlay_png\n"
   ]
  },
  {
   "cell_type": "markdown",
   "metadata": {},
   "source": [
    "### G\u00e9n\u00e9rer la s\u00e9rie raster synth\u00e9tique\n",
    "Nous cr\u00e9ons un cube `(T,H,W)` repr\u00e9sentant des hotspots \u00e9volutifs et du bruit.\n"
   ]
  },
  {
   "cell_type": "code",
   "metadata": {},
   "execution_count": null,
   "outputs": [],
   "source": [
    "data_dir = Path.cwd()\n",
    "T, H, W = 15, 128, 128\n",
    "series_path = data_dir / 'geo_series.npy'\n",
    "\n",
    "rng = np.random.default_rng(42)\n",
    "centers = [(32, 40), (80, 70), (96, 24)]\n",
    "radii = [8.0, 10.0, 6.0]\n",
    "ys, xs = np.mgrid[0:H, 0:W]\n",
    "series = np.zeros((T, H, W), dtype=np.float32)\n",
    "for t in range(T):\n",
    "    arr = np.zeros((H, W), dtype=np.float32)\n",
    "    for (cy, cx), r in zip(centers, radii):\n",
    "        rr = r * (1.0 + 0.1 * np.sin(2 * np.pi * (t / 6.0)))\n",
    "        d2 = (xs - cx) ** 2 + (ys - cy) ** 2\n",
    "        arr += np.exp(-d2 / (2.0 * (rr ** 2)))\n",
    "    arr += 0.05 * rng.standard_normal((H, W)).astype(np.float32)\n",
    "    arr -= arr.min()\n",
    "    m = arr.max()\n",
    "    if m > 0:\n",
    "        arr /= m\n",
    "    series[t] = arr\n",
    "\n",
    "np.save(series_path, series)\n",
    "series.shape\n"
   ]
  },
  {
   "cell_type": "markdown",
   "metadata": {},
   "source": [
    "### Tracking des hotspots\n",
    "Application directe de `track()` sur la s\u00e9rie synth\u00e9tique.\n"
   ]
  },
  {
   "cell_type": "code",
   "metadata": {},
   "execution_count": null,
   "outputs": [],
   "source": [
    "tracks = track(series, threshold=None, connectivity=4, min_area=5)\n",
    "tracks\n"
   ]
  },
  {
   "cell_type": "markdown",
   "metadata": {},
   "source": [
    "### Calcul et inspection des m\u00e9triques\n"
   ]
  },
  {
   "cell_type": "code",
   "metadata": {},
   "execution_count": null,
   "outputs": [],
   "source": [
    "geo_report = metrics(tracks)\n",
    "print(json.dumps(geo_report, indent=2))\n"
   ]
  },
  {
   "cell_type": "markdown",
   "metadata": {},
   "source": [
    "### Sauvegarder le rapport JSON\n"
   ]
  },
  {
   "cell_type": "code",
   "metadata": {},
   "execution_count": null,
   "outputs": [],
   "source": [
    "report_path = data_dir / 'geo_report.json'\n",
    "report_path.write_text(json.dumps(geo_report, indent=2))\n",
    "report_path\n"
   ]
  },
  {
   "cell_type": "markdown",
   "metadata": {},
   "source": [
    "### G\u00e9n\u00e9rer et afficher l'overlay synth\u00e9tique\n"
   ]
  },
  {
   "cell_type": "code",
   "metadata": {},
   "execution_count": null,
   "outputs": [],
   "source": [
    "overlay_path = data_dir / 'geo_overlay.png'\n",
    "save_overlay_png(series, tracks.labels, str(overlay_path))\n",
    "display(Image(filename=str(overlay_path)))\n"
   ]
  },
  {
   "cell_type": "markdown",
   "metadata": {},
   "source": [
    "### TODO\n",
    "- Remplacer ce jeu synth\u00e9tique par un raster public (COPERNICUS, Sentinel, etc.).\n",
    "- G\u00e9rer la projection/\u00e9chelle g\u00e9ographique selon la source r\u00e9elle.\n"
   ]
  }
 ],
 "metadata": {
  "kernelspec": {
   "display_name": "Python 3",
   "language": "python",
   "name": "python3"
  },
  "language_info": {
   "name": "python",
   "pygments_lexer": "ipython3"
  }
 },
 "nbformat": 4,
 "nbformat_minor": 5
}