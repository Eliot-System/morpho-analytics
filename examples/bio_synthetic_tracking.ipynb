{
 "cells": [
  {
   "cell_type": "markdown",
   "metadata": {},
   "source": "## Objectif\nCe notebook d\u00e9montre comment utiliser `morpho-analytics` pour suivre des structures biologiques synth\u00e9tiques."
  },
  {
   "cell_type": "markdown",
   "metadata": {},
   "source": "### Imports"
  },
  {
   "cell_type": "code",
   "metadata": {},
   "execution_count": null,
   "outputs": [],
   "source": "from pathlib import Path\nimport json\n\nimport numpy as np\nfrom IPython.display import Image, display\n\nfrom morpho_analytics.track import track, metrics, save_overlay_png"
  },
  {
   "cell_type": "markdown",
   "metadata": {},
   "source": "### Charger ou g\u00e9n\u00e9rer la s\u00e9rie synth\u00e9tique"
  },
  {
   "cell_type": "code",
   "metadata": {},
   "execution_count": null,
   "outputs": [],
   "source": "data_dir = Path.cwd()\nsynth_path = data_dir / \"synth.npy\"\n\nif not synth_path.exists():\n    T, H, W, r = 20, 128, 128, 10.0\n    ys, xs = np.mgrid[0:H, 0:W]\n    series = np.zeros((T, H, W), dtype=np.float32)\n    cx0, cy0, vx, vy = 20.0, 20.0, 3.0, 2.0\n    for t in range(T):\n        cx, cy = cx0 + vx * t, cy0 + vy * t\n        d2 = (xs - cx) ** 2 + (ys - cy) ** 2\n        series[t] = np.exp(-d2 / (2.0 * (r ** 2)))\n    series -= series.min()\n    m = series.max()\n    if m > 0:\n        series /= m\n    np.save(synth_path, series.astype(np.float32))\n\nseries = np.load(synth_path, allow_pickle=False)\nseries.shape"
  },
  {
   "cell_type": "markdown",
   "metadata": {},
   "source": "### Suivre la s\u00e9rie"
  },
  {
   "cell_type": "code",
   "metadata": {},
   "execution_count": null,
   "outputs": [],
   "source": "tracks = track(series, threshold=None, connectivity=4, min_area=5)\ntracks"
  },
  {
   "cell_type": "markdown",
   "metadata": {},
   "source": "### Calculer les m\u00e9triques"
  },
  {
   "cell_type": "code",
   "metadata": {},
   "execution_count": null,
   "outputs": [],
   "source": "report = metrics(tracks)\nprint(json.dumps(report, indent=2))"
  },
  {
   "cell_type": "markdown",
   "metadata": {},
   "source": "### Sauvegarder le rapport JSON"
  },
  {
   "cell_type": "code",
   "metadata": {},
   "execution_count": null,
   "outputs": [],
   "source": "report_path = Path.cwd() / \"bio_report.json\"\nreport_path.write_text(json.dumps(report, indent=2))\nreport_path"
  },
  {
   "cell_type": "markdown",
   "metadata": {},
   "source": "### G\u00e9n\u00e9rer et afficher l'overlay"
  },
  {
   "cell_type": "code",
   "metadata": {},
   "execution_count": null,
   "outputs": [],
   "source": "overlay_path = Path.cwd() / \"bio_overlay.png\"\nsave_overlay_png(series, tracks.labels, str(overlay_path))\ndisplay(Image(filename=str(overlay_path)))"
  }
 ],
 "metadata": {
  "kernelspec": {
   "display_name": "Python 3",
   "language": "python",
   "name": "python3"
  },
  "language_info": {
   "name": "python",
   "pygments_lexer": "ipython3"
  }
 },
 "nbformat": 4,
 "nbformat_minor": 5
}